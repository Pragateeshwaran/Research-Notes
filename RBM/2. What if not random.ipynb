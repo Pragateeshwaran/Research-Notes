{
 "cells": [
  {
   "cell_type": "code",
   "execution_count": null,
   "id": "5e801143",
   "metadata": {},
   "outputs": [
    {
     "name": "stdout",
     "output_type": "stream",
     "text": [
      "Epoch 1 done ✅\n",
      "Epoch 2 done ✅\n",
      "Epoch 3 done ✅\n",
      "Epoch 4 done ✅\n",
      "Epoch 5 done ✅\n",
      "Epoch 6 done ✅\n",
      "Epoch 7 done ✅\n",
      "Epoch 8 done ✅\n",
      "Epoch 9 done ✅\n",
      "Epoch 10 done ✅\n"
     ]
    },
    {
     "data": {
      "image/png": "[encoded data removed]",
      "text/plain": [
       "<Figure size 640x480 with 1 Axes>"
      ]
     },
     "metadata": {},
     "output_type": "display_data"
    },
    {
     "data": {
      "image/png": "[encoded data removed]",
      "text/plain": [
       "<Figure size 640x480 with 1 Axes>"
      ]
     },
     "metadata": {},
     "output_type": "display_data"
    },
    {
     "data": {
      "image/png": "[encoded data removed]",
      "text/plain": [
       "<Figure size 640x480 with 1 Axes>"
      ]
     },
     "metadata": {},
     "output_type": "display_data"
    }
   ],
   "source": [
    "import torch\n",
    "import torchvision\n",
    "import torchvision.transforms as transforms\n",
    "import matplotlib.pyplot as plt\n",
    "import torch.nn.functional as F\n",
    " \n",
    "n_visible = 784   \n",
    "n_hidden = 500\n",
    "lr = 0.01\n",
    "epochs = 10\n",
    "batch_size = 64\n",
    " \n",
    "transform = transforms.Compose([transforms.ToTensor()])\n",
    "mnist_loader = torch.utils.data.DataLoader(\n",
    "    torchvision.datasets.MNIST(root='./data', train=True, download=True, transform=transform),\n",
    "    batch_size=batch_size,\n",
    "    shuffle=True\n",
    ")\n",
    " \n",
    "W = torch.randn(n_hidden, n_visible) * 0.1\n",
    "h_bias = torch.zeros(n_hidden)\n",
    "v_bias = torch.zeros(n_visible)\n",
    " \n",
    "def v_to_h(v):\n",
    "    h_probs = torch.sigmoid(torch.matmul(v, W.T) + h_bias)\n",
    "    h_sample = torch.bernoulli(h_probs)\n",
    "    h_thresh = (h_probs > 0.5).float() # Thresholding since bernoulli uses randomness\n",
    "    return h_probs, h_sample, h_thresh\n",
    "\n",
    "def h_to_v(h):\n",
    "    v_probs = torch.sigmoid(torch.matmul(h, W) + v_bias)\n",
    "    v_sample = torch.bernoulli(v_probs)\n",
    "    v_thresh = (v_probs > 0.5).float() # Thresholding since bernoulli uses randomness\n",
    "    return v_probs, v_sample, v_thresh\n",
    " \n",
    "def contrastive_divergence(v):\n",
    "    h_probs, h_sample, _ = v_to_h(v)\n",
    "    v_probs, v_sample, _ = h_to_v(h_sample)\n",
    "    h_probs_neg, _, _ = v_to_h(v_probs)\n",
    "\n",
    "    global W, h_bias, v_bias\n",
    "    W += lr * (torch.matmul(h_probs.T, v) - torch.matmul(h_probs_neg.T, v_probs)) / v.size(0)\n",
    "    v_bias += lr * torch.mean(v - v_probs, dim=0)\n",
    "    h_bias += lr * torch.mean(h_probs - h_probs_neg, dim=0)\n",
    " \n",
    "for epoch in range(epochs):\n",
    "    total_loss = 0\n",
    "    for batch, _ in mnist_loader:\n",
    "        v = batch.view(-1, 784)\n",
    "        contrastive_divergence(v)\n",
    "    print(f\"Epoch {epoch+1} done ✅\")\n",
    "\n",
    "test_img, _ = next(iter(mnist_loader))\n",
    "test_v = test_img[0].view(-1)\n",
    "\n",
    "_, h_b_sample, h_thresh = v_to_h(test_v)\n",
    "_, recon_b, _ = h_to_v(h_b_sample)\n",
    "_, _, recon_thresh = h_to_v(h_thresh)\n",
    "\n",
    "def show_img(flat, title):\n",
    "    plt.imshow(flat.view(28, 28).detach(), cmap='gray')\n",
    "    plt.title(title)\n",
    "    plt.axis('off')\n",
    "    plt.show()\n",
    "\n",
    "show_img(test_v, \"Original Digit\")\n",
    "show_img(recon_b, \"Reconstruction (Bernoulli Sampling)\")\n",
    "show_img(recon_thresh, \"Reconstruction (Thresholding)\")\n"
   ]
  },
  {
   "cell_type": "markdown",
   "id": "9455bd80",
   "metadata": {},
   "source": [
    "# Oh!😅 We can't use threshold, since those randomness are responsible for new generation"
   ]
  },
  {
   "cell_type": "code",
   "execution_count": null,
   "id": "9cfa3a31",
   "metadata": {},
   "outputs": [],
   "source": [
    "class RBM(nn.Module):\n",
    "    def __init__(self, visible, hidden):  # Order should be visible, hidden to match your usage\n",
    "        super(RBM, self).__init__()\n",
    "        self.W = nn.Parameter(torch.randn(hidden, visible) * 0.1)\n",
    "        self.h_bias = nn.Parameter(torch.zeros(hidden))  # Changed from h to h_bias\n",
    "        self.v_bias = nn.Parameter(torch.zeros(visible))  # Changed from v to v_bias\n",
    "        \n",
    "    def sample_h(self, v):\n",
    "        h_prob = torch.sigmoid(F.linear(v, self.W, self.h_bias))\n",
    "        return h_prob, torch.bernoulli(h_prob)\n",
    "        \n",
    "    def sample_v(self, h):\n",
    "        v_prob = torch.sigmoid(F.linear(h, self.W.t(), self.v_bias))\n",
    "        return v_prob, torch.bernoulli(v_prob)\n",
    "   \n",
    "    def contrastive_derivative(self, v, lr=0.1):\n",
    "        h_prob, h_sample = self.sample_h(v)\n",
    "        v_prob, _ = self.sample_v(h_sample)  # Fixed asterisk\n",
    "        h_prob_neg, _ = self.sample_h(v_prob)  # Fixed asterisk\n",
    " \n",
    "        self.W.data += lr * (torch.matmul(h_prob.t(), v) - torch.matmul(h_prob_neg.t(), v_prob)) / v.size(0)\n",
    "        self.v_bias.data += lr * torch.sum(v - v_prob, dim=0) / v.size(0)\n",
    "        self.h_bias.data += lr * torch.sum(h_prob - h_prob_neg, dim=0) / v.size(0)\n",
    "        return torch.mean((v - v_prob) ** 2)\n",
    "\n",
    "class DBN(nn.Module):\n",
    "    def __init__(self, layers):\n",
    "        super(DBN, self).__init__()\n",
    "        self.layers = layers\n",
    "        self.rbm = nn.ModuleList([RBM(layers[i], layers[i+1]) for i in range(len(layers)-1)])\n",
    "        self.classifier = nn.Sequential(\n",
    "            nn.Linear(layers[-1], 10),\n",
    "        )\n",
    "        \n",
    "    def pre_train(self, data):\n",
    "        images = data.tensors[0]  # Fixed tensors (plural)\n",
    "        for i, rbm in enumerate(self.rbm):\n",
    "            for epochs in range(10):\n",
    "                for batch in DataLoader(images, batch_size=100, shuffle=True):\n",
    "                    batch = batch.view(batch.size(0), -1)\n",
    "                    rbm.contrastive_derivative(batch)\n",
    "           \n",
    "            h_prob, _ = rbm.sample_h(images)  # Fixed asterisk\n",
    "            images = h_prob  # Store result for next RBM\n",
    "            \n",
    "    def forward(self, x):\n",
    "        for rbm in self.rbm:\n",
    "            h_prob, _ = rbm.sample_h(x)  # Fixed asterisk\n",
    "            x = h_prob\n",
    "        x = self.classifier(x)\n",
    "        return x\n",
    "   \n",
    "    def finetune(self, data):  \n",
    "        optimizer = torch.optim.SGD(self.parameters(), lr=0.1)\n",
    "        criterion = nn.CrossEntropyLoss()  \n",
    "        for epochs in range(10):\n",
    "            for image, target in DataLoader(data, batch_size=64):\n",
    "                image = image.view(image.size(0), -1)  # Added assignment\n",
    "                optimizer.zero_grad()\n",
    "                output = self.forward(image)\n",
    "                loss = criterion(output, target)\n",
    "                loss.backward()\n",
    "                optimizer.step()\n",
    "            print(f\"Epoch {epochs}, Loss: {loss.item()}\")\n",
    "\n"
   ]
  }
 ],
 "metadata": {
  "kernelspec": {
   "display_name": "Python 3",
   "language": "python",
   "name": "python3"
  },
  "language_info": {
   "codemirror_mode": {
    "name": "ipython",
    "version": 3
   },
   "file_extension": ".py",
   "mimetype": "text/x-python",
   "name": "python",
   "nbconvert_exporter": "python",
   "pygments_lexer": "ipython3",
   "version": "3.9.0"
  }
 },
 "nbformat": 4,
 "nbformat_minor": 5
}
